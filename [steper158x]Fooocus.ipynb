{
  "cells": [
    {
      "cell_type": "markdown",
      "metadata": {
        "id": "FrBdRd74S_Nw"
      },
      "source": [
        "> อยากได้ฟีเจอร์อะไรเพิ่มเติม หรือ มีปัญหา สามารถติดต่อได้ที่ Facebook : https://www.facebook.com/steper158x\n",
        "\n",
        "> ตอนนี้ระบบยังเป็น Beta อยู่ หากมีปัญหาสามารถแจ้งผมได้นะครับ\n",
        "\n",
        "> Google Colab ทั้ง Version Free และ Version เสียเงิน สามารถใช้งานได้"
      ]
    },
    {
      "cell_type": "markdown",
      "metadata": {
        "id": "QPNzzEYxS_Ny"
      },
      "source": [
        "# เชื่อม Google Drive + ติดตั้ง Fooocus ✈\n",
        "\n",
        "---"
      ]
    },
    {
      "cell_type": "code",
      "execution_count": null,
      "metadata": {
        "cellView": "form",
        "id": "pe5EOfsOS_Nz"
      },
      "outputs": [],
      "source": [
        "#@title เชื่อม Google Drive / ติดตั้ง Fooocus\n",
        "from google.colab import drive\n",
        "from IPython.display import clear_output\n",
        "import sys\n",
        "import os\n",
        "\n",
        "#show green text\n",
        "def print_green_text(text):\n",
        "    print(\"\\033[1;32;40m\" + text + \"\\033[0m\")\n",
        "\n",
        "#show red text\n",
        "def print_red_text(text):\n",
        "    print(\"\\033[1;31;40m\" + text + \"\\033[0m\")\n",
        "\n",
        "google_drive = False #@param {type:\"boolean\"}\n",
        "google_drive_type = 'My Drive' #@param [\"My Drive\", \"Shared drives\"]\n",
        "google_shared_drive_name = 'AI' #@param {type:\"string\"}\n",
        "folder_path = 'Fooocus' #@param {type:\"string\"}\n",
        "\n",
        "if google_drive:\n",
        "    drive.mount('/content/drive')\n",
        "    clear_output()\n",
        "    print_green_text('เชื่อมต่อ Google Drive สำเร็จแล้ว!')\n",
        "    if google_drive_type == 'My Drive':\n",
        "        folder_path = '/content/drive/MyDrive/' + folder_path\n",
        "    elif google_drive_type == 'Shared drives':\n",
        "         #check shared drive name is not empty\n",
        "        if google_shared_drive_name == '':\n",
        "            print_red_text('ไม่พบ Shared Drive ที่ระบุ โปรดลองใหม่อีกครั้ง!')\n",
        "            sys.exit()\n",
        "        folder_path = '/content/drive/Shareddrives/' + google_shared_drive_name + '/' + folder_path\n",
        "    else:\n",
        "        print_red_text('ประเภทของ Google Drive ไม่ถูกต้อง! โปรดลองใหม่อีกครั้ง!')\n",
        "        sys.exit()\n",
        "    \n",
        "else:\n",
        "    folder_path = '/content/'\n",
        "\n",
        "#install pygit2\n",
        "!pip install pygit2==1.12.2\n",
        "\n",
        "#check if path exists and create folder if not\n",
        "if not os.path.exists(folder_path):\n",
        "  os.makedirs(folder_path)\n",
        "  %cd {folder_path}\n",
        "  print_green_text('กำลังติดตั้ง Fooocus...')\n",
        "  !git clone https://github.com/lllyasviel/Fooocus\n",
        "\n",
        "\n",
        "%cd {folder_path}\n",
        "\n",
        "print_green_text('Fooocus ถูกติดตั้งเรียบร้อยแล้ว!')"
      ]
    },
    {
      "cell_type": "markdown",
      "metadata": {
        "id": "7PiEMvEFS_N0"
      },
      "source": [
        "คำอธิบาย\n",
        "\n",
        "\n",
        "---\n",
        "\n",
        "\n",
        "หัวข้อ | คำอธิบาย\n",
        "--- | ---\n",
        "google_drive | เปิด/ปิดการเชื่อมต่อ google drive\n",
        "drive_type | เลือกประเภทของ Google Drive (เลือก Shared drives หากต้องการเลือกไปที่แชร์ไดร์)\n",
        "folder_path | โฟเดอร์ที่ต้องการบันทึกไฟล์ไว้ใน google drive\n",
        "\n",
        "**หากไม่ต้องการเชื่อมต่อ google_drive ไม่ต้องกดเช็กที่ google_drive แล้วกดรันได้เลย\n"
      ]
    },
    {
      "cell_type": "markdown",
      "metadata": {
        "id": "ipig49K_S_N0"
      },
      "source": [
        "# **ดาวน์โหลด Model , Checkpoint , Lora และ อื่นๆ**\n",
        "\n",
        "---\n",
        "\n",
        "<br><font color=\"#eb4034\">(การลง Fooocus ครั้งแรก จะโหลดไฟล์ juggernautXL เวอร์ชั่นล่าสุดให้เป็นที่เรียบร้อยแล้ว)</font>"
      ]
    },
    {
      "cell_type": "code",
      "execution_count": null,
      "metadata": {
        "cellView": "form",
        "id": "Do-LGkb-S_N0"
      },
      "outputs": [],
      "source": [
        "#@title ดาวน์โหลด Model , Checkpoint , Lora\n",
        "model_url = \"https://civitai.com/api/download/models/133832\" #@param {type:\"string\"}\n",
        "model_type = \"checkpoint\" #@param [\"checkpoint\", \"lora\"] {allow-input: true}\n",
        "model_name = \"CrystalClearXL\" #@param {type:\"string\"}\n",
        "model_extension = \"safetensors\" #@param [\"safetensors\", \"pth\" , \"ckpt\"] {allow-input: true}\n",
        "\n",
        "if model_name == \"\":\n",
        "    #file name from url\n",
        "    file_name = model_url.split('/')[-1] + '.' + model_extension\n",
        "else:\n",
        "    file_name = model_name + '.' + model_extension\n",
        "\n",
        "#file path\n",
        "if model_type == 'checkpoint':\n",
        "    model_type = model_type + 's'\n",
        "elif model_type == 'lora':\n",
        "    model_type = model_type + 's'\n",
        "\n",
        "file_path = folder_path + '/Fooocus/models/' + model_type + '/' +  file_name\n",
        "#check if file exists\n",
        "if not os.path.exists(file_path):\n",
        "    #download file\n",
        "    print_green_text('กำลังดาวน์โหลดไฟล์ ' + file_name + '...')\n",
        "    !wget -O - {model_url} > {file_path}\n",
        "    print_green_text('ดาวน์โหลดไฟล์ ' + file_name + ' เสร็จสมบูรณ์!')\n",
        "else:\n",
        "    print_red_text(file_name + ' ดาวน์โหลดไว้อยู่แล้ว!')"
      ]
    },
    {
      "cell_type": "markdown",
      "metadata": {
        "id": "PPzuqLlOS_N0"
      },
      "source": [
        "คำอธิบาย\n",
        "\n",
        "\n",
        "---\n",
        "\n",
        "\n",
        "หัวข้อ | คำอธิบาย\n",
        "--- | ---\n",
        "model_url | กรอก link ของไฟล์ที่ต้องการจะ Download (ใน Civitai ให้คลิกขวาที่ปุ่ม Download แล้วกดคัดลอกลิ้งค์มา)\n",
        "modele_type | กรอกประเภทของโมเดลที่ต้องการจะ Download ซึ่งจะสัมพันธ์กับชื่อโฟเดอร์ในโมเดล (วิธีที่ง่ายกว่า : ด้านขวามือมี dropdown ให้กดเลือกประเภทได้เลย)\n",
        "model_name | กรอกชื่อของไฟล์ที่ต้องการจะดาวน์โหลด\n",
        "model_extension | กรอกนามสกุลของไฟล์ที่ต้องการจะดาวน์โหลด ไม่ต้องกรอก . (วิธีที่ง่ายกว่า : ด้านขวามือมี dropdown ให้กดเลือกประเภทได้เลย)"
      ]
    },
    {
      "cell_type": "markdown",
      "metadata": {
        "id": "5M4K5bsYS_N0"
      },
      "source": [
        "## ดาวน์โหลดโมเดลอย่างง่าย\n",
        "\n",
        "\n",
        "---\n",
        "หากต้องการดาวน์โหลดโมเดลไหน ให้กดเช็กถูกที่โมเดลนั้นๆ แล้วค่อยกด run\n",
        "<br><font color=\"#eb4034\">(หากมีการรัน Fooocus อยู่แล้ว ให้ปิดการรัน Fooocus ก่อนทำการดาวน์โหลดไฟล์)</font>\n"
      ]
    },
    {
      "cell_type": "code",
      "execution_count": null,
      "metadata": {
        "cellView": "form",
        "id": "yD1vaqRDS_N1"
      },
      "outputs": [],
      "source": [
        "#@title ดาวน์โหลด SDXL Model อย่างง่าย\n",
        "\n",
        "sd = {}\n",
        "\n",
        "#@markdown <hr><h3>Checkpoint SDXL</h3><hr>\n",
        "\n",
        "#@markdown <p>blue_pencil-XL V.6.0</p>\n",
        "CHECKPOINT_blue_pencil_XL = False #@param {type:\"boolean\"}\n",
        "\n",
        "#@markdown <p>AnimagineXL V.3.1</p>\n",
        "CHECKPOINT_AnimagineXL = False #@param {type:\"boolean\"}\n",
        "\n",
        "#@markdown <p>LEOSAMHelloworld V.5.0</p>\n",
        "CHECKPOINT_LEOSAMHelloworld = False #@param {type:\"boolean\"}\n",
        "\n",
        "#@markdown <p>DreamShaper XL (alpha 2)</p>\n",
        "CHECKPOINT_DreamShaperXL = False #@param {type:\"boolean\"}\n",
        "\n",
        "sd['AnimagineXL3.1'] = {\n",
        "    \"status\": CHECKPOINT_AnimagineXL,\n",
        "    \"id\": '403131'\n",
        "}\n",
        "\n",
        "sd['blue_pencil-XL6.0'] = {\n",
        "    \"status\": CHECKPOINT_blue_pencil_XL,\n",
        "    \"id\": '429849'\n",
        "}\n",
        "\n",
        "\n",
        "sd['LEOSAMHelloworld5.0'] = {\n",
        "    \"status\": CHECKPOINT_LEOSAMHelloworld,\n",
        "    \"id\": '338512'\n",
        "}\n",
        "\n",
        "sd['DreamShaperXLalpha2'] = {\n",
        "    \"status\": CHECKPOINT_DreamShaperXL,\n",
        "    \"id\": '126688'\n",
        "}\n",
        "\n",
        "for name, value in sd.items():\n",
        "    if value['status']:\n",
        "        file_name =  name + '.safetensors'\n",
        "        file_path = folder_path + '/Fooocus/models/checkpoints/' +  file_name\n",
        "        #check if file exists\n",
        "        if not os.path.exists(file_path):\n",
        "            print_green_text('กำลังดาวน์โหลดไฟล์ ' + file_name + '...')\n",
        "            !curl -Lo {file_path} https://civitai.com/api/download/models/{value['id']}\n",
        "            print_green_text('ดาวน์โหลดไฟล์ ' + file_name + ' เสร็จสมบูรณ์!')\n",
        "        else:\n",
        "            print_red_text('มีไฟล์ ' + file_name + ' อยู่แล้ว!')\n",
        "\n",
        "print_green_text('การดาวน์โหลดเสร็จสมบูรณ์!')\n"
      ]
    },
    {
      "cell_type": "markdown",
      "metadata": {
        "id": "r9_oaR3KS_N1"
      },
      "source": [
        "# เปิดใช้งาน Fooocus"
      ]
    },
    {
      "cell_type": "code",
      "execution_count": null,
      "metadata": {
        "cellView": "form",
        "id": "0uDP1RXgS_N1"
      },
      "outputs": [],
      "source": [
        "#@title เริ่มต้นการใช้งาน Fooocus\n",
        "\n",
        "%cd {folder_path}/Fooocus\n",
        "\n",
        "!python entry_with_update.py --share --always-high-vram"
      ]
    }
  ],
  "metadata": {
    "accelerator": "GPU",
    "colab": {
      "gpuType": "T4",
      "provenance": []
    },
    "kernelspec": {
      "display_name": "Python 3",
      "name": "python3"
    },
    "language_info": {
      "name": "python"
    }
  },
  "nbformat": 4,
  "nbformat_minor": 0
}
