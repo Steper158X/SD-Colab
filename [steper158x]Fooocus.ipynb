{
 "cells": [
  {
   "cell_type": "markdown",
   "metadata": {},
   "source": [
    "> อยากได้ฟีเจอร์อะไรเพิ่มเติม หรือ มีปัญหา สามารถติดต่อได้ที่ Facebook : https://www.facebook.com/steper158x\n",
    "\n",
    "> ตอนนี้ระบบยังเป็น Beta อยู่ หากมีปัญหาสามารถแจ้งผมได้นะครับ\n",
    "\n",
    "> Google Colab ทั้ง Version Free และ Version เสียเงิน สามารถใช้งานได้"
   ]
  },
  {
   "cell_type": "markdown",
   "metadata": {},
   "source": [
    "# เชื่อม Google Drive + ติดตั้ง Fooocus ✈\n",
    "\n",
    "---"
   ]
  },
  {
   "cell_type": "code",
   "execution_count": null,
   "metadata": {},
   "outputs": [],
   "source": [
    "#@title เชื่อม Google Drive / ติดตั้ง Fooocus\n",
    "from google.colab import drive\n",
    "from IPython.display import clear_output\n",
    "import sys\n",
    "import os\n",
    "\n",
    "#show green text\n",
    "def print_green_text(text):\n",
    "    print(\"\\033[1;32;40m\" + text + \"\\033[0m\")\n",
    "\n",
    "#show red text\n",
    "def print_red_text(text):\n",
    "    print(\"\\033[1;31;40m\" + text + \"\\033[0m\")\n",
    "\n",
    "google_drive = False #@param {type:\"boolean\"}\n",
    "google_drive_type = 'My Drive' #@param [\"My Drive\", \"Shared drives\"]\n",
    "google_shared_drive_name = 'AI' #@param {type:\"string\"}\n",
    "folder_path = 'Fooocus' #@param {type:\"string\"}\n",
    "\n",
    "if google_drive:\n",
    "    drive.mount('/content/drive')\n",
    "    clear_output()\n",
    "    print_green_text('Google drive mounted successfully!')\n",
    "    if google_drive_type == 'My Drive':\n",
    "        folder_path = '/content/drive/MyDrive/' + folder_path\n",
    "    elif google_drive_type == 'Shared drives':\n",
    "         #check shared drive name is not empty\n",
    "        if google_shared_drive_name == '':\n",
    "            print_red_text('Shared drive name is empty!')\n",
    "            sys.exit()\n",
    "        folder_path = '/content/drive/Shareddrives/' + google_shared_drive_name + '/' + folder_path\n",
    "    else:\n",
    "        print_red_text('Google drive type is wrong!')\n",
    "        sys.exit()\n",
    "else:\n",
    "    folder_path = '/content/' + folder_path\n",
    "\n",
    "#install pygit2\n",
    "!pip install pygit2==1.12.2\n",
    "%cd {folder_path}\n",
    "\n",
    "#clone Fooocus\n",
    "!git clone https://github.com/lllyasviel/Fooocus\n",
    "%cd {folder_path}"
   ]
  },
  {
   "cell_type": "markdown",
   "metadata": {},
   "source": [
    "คำอธิบาย\n",
    "\n",
    "\n",
    "---\n",
    "\n",
    "\n",
    "หัวข้อ | คำอธิบาย\n",
    "--- | ---\n",
    "google_drive | เปิด/ปิดการเชื่อมต่อ google drive\n",
    "drive_type | เลือกประเภทของ Google Drive (เลือก Shared drives หากต้องการเลือกไปที่แชร์ไดร์)\n",
    "folder_path | โฟเดอร์ที่ต้องการบันทึกไฟล์ไว้ใน google drive\n",
    "\n",
    "**หากไม่ต้องการเชื่อมต่อ google_drive ไม่ต้องกดเช็กที่ google_drive แล้วกดรันได้เลย\n"
   ]
  },
  {
   "cell_type": "markdown",
   "metadata": {},
   "source": [
    "# **ดาวน์โหลด Model , Checkpoint , Lora และ อื่นๆ**\n",
    "\n",
    "\n",
    "---"
   ]
  },
  {
   "cell_type": "code",
   "execution_count": null,
   "metadata": {},
   "outputs": [],
   "source": [
    "#@title ดาวน์โหลด Model , Checkpoint , Lora\n",
    "model_url = \"https://civitai.com/api/download/models/133832\" #@param {type:\"string\"}\n",
    "model_type = \"checkpoint\" #@param [\"checkpoint\", \"lora\"] {allow-input: true}\n",
    "model_name = \"CrystalClearXL\" #@param {type:\"string\"}\n",
    "model_extension = \"safetensors\" #@param [\"safetensors\", \"pth\" , \"ckpt\"] {allow-input: true}\n",
    "\n",
    "if model_name == \"\":\n",
    "    #file name from url\n",
    "    file_name = model_url.split('/')[-1] + '.' + model_extension\n",
    "else:\n",
    "    file_name = model_name + '.' + model_extension\n",
    "\n",
    "#file path\n",
    "if model_type == 'checkpoint':\n",
    "    model_type = model_type + 's'\n",
    "elif model_type == 'lora':\n",
    "    model_type = model_type + 's'\n",
    "\n",
    "file_path = path + '/models/' + model_type + '/' +  file_name\n",
    "#check if file exists\n",
    "if not os.path.exists(file_path):\n",
    "    #download file\n",
    "    print_green_text('Downloading ' + file_name + '...')\n",
    "    !wget -O - {model_url} > {file_path}\n",
    "    print_green_text('Downloaded ' + file_name + ' successfully!')\n",
    "else:\n",
    "    print_red_text(file_name + ' already exists!')"
   ]
  },
  {
   "cell_type": "markdown",
   "metadata": {},
   "source": [
    "คำอธิบาย\n",
    "\n",
    "\n",
    "---\n",
    "\n",
    "\n",
    "หัวข้อ | คำอธิบาย\n",
    "--- | ---\n",
    "model_url | กรอก link ของไฟล์ที่ต้องการจะ Download (ใน Civitai ให้คลิกขวาที่ปุ่ม Download แล้วกดคัดลอกลิ้งค์มา)\n",
    "modele_type | กรอกประเภทของโมเดลที่ต้องการจะ Download ซึ่งจะสัมพันธ์กับชื่อโฟเดอร์ในโมเดล (วิธีที่ง่ายกว่า : ด้านขวามือมี dropdown ให้กดเลือกประเภทได้เลย)\n",
    "model_name | กรอกชื่อของไฟล์ที่ต้องการจะดาวน์โหลด\n",
    "model_extension | กรอกนามสกุลของไฟล์ที่ต้องการจะดาวน์โหลด ไม่ต้องกรอก . (วิธีที่ง่ายกว่า : ด้านขวามือมี dropdown ให้กดเลือกประเภทได้เลย)"
   ]
  },
  {
   "cell_type": "markdown",
   "metadata": {},
   "source": [
    "## ดาวน์โหลดโมเดลอย่างง่าย\n",
    "\n",
    "\n",
    "---\n",
    "หากต้องการดาวน์โหลดโมเดลไหน ให้กดเช็กถูกที่โมเดลนั้นๆ แล้วค่อยกด run\n",
    "<br><font color=\"#eb4034\">(หากมีการรัน Fooocus อยู่แล้ว ให้ปิดการรัน Fooocus ก่อนทำการดาวน์โหลดไฟล์)</font>\n"
   ]
  },
  {
   "cell_type": "code",
   "execution_count": null,
   "metadata": {},
   "outputs": [],
   "source": [
    "#@title ดาวน์โหลด SDXL Model อย่างง่าย\n",
    "\n",
    "sd = {}\n",
    "\n",
    "#@markdown <hr><h3>Checkpoint SDXL</h3><hr>\n",
    "\n",
    "#@markdown <p>blue_pencil-XL V.6.0</p>\n",
    "CHECKPOINT_blue_pencil_XL = False #@param {type:\"boolean\"}\n",
    "\n",
    "#@markdown <p>AnimagineXL V.3.1</p>\n",
    "CHECKPOINT_AnimagineXL = False #@param {type:\"boolean\"}\n",
    "\n",
    "#@markdown <p>LEOSAMHelloworld V.5.0</p>\n",
    "CHECKPOINT_LEOSAMHelloworld = False #@param {type:\"boolean\"}\n",
    "\n",
    "#@markdown <p>DreamShaper XL (alpha 2)</p>\n",
    "CHECKPOINT_DreamShaperXL = False #@param {type:\"boolean\"}\n",
    "\n",
    "sd['AnimagineXL3.1'] = {\n",
    "    \"status\": CHECKPOINT_AnimagineXL,\n",
    "    \"id\": '403131'\n",
    "}\n",
    "\n",
    "sd['blue_pencil-XL6.0'] = {\n",
    "    \"status\": CHECKPOINT_blue_pencil_XL,\n",
    "    \"id\": '429849'\n",
    "}\n",
    "\n",
    "\n",
    "sd['LEOSAMHelloworld5.0'] = {\n",
    "    \"status\": CHECKPOINT_LEOSAMHelloworld,\n",
    "    \"id\": '338512'\n",
    "}\n",
    "\n",
    "sd['DreamShaperXLalpha2'] = {\n",
    "    \"status\": CHECKPOINT_DreamShaperXL,\n",
    "    \"id\": '126688'\n",
    "}\n",
    "\n",
    "sd['']\n",
    "\n",
    "for name, value in sd.items():\n",
    "    if value['status']:\n",
    "        file_name =  name + '.safetensors'\n",
    "        file_path = path + 'models/checkpoints/' +  file_name\n",
    "        #check if file exists\n",
    "        if not os.path.exists(file_path):\n",
    "            !echo -e \"\\e[1;32mกำลังดาวน์โหลด\" {file_name} \"...\\e[0m\"\n",
    "            !curl -Lo {file_path} https://civitai.com/api/download/models/{value['id']}\n",
    "            !echo -e \"\\e[1;32mดาวน์โหลด\" {file_name} \"เสร็จเรียบร้อย!\\e[0m\"\n",
    "        else:\n",
    "            !echo -e \"\\e[1;32m\" {file_name} \"มีอยู่ในระบบอยู่แล้ว!\\e[0m\"\n",
    "\n",
    "!echo -e \"\\e[1;32mการดาวน์โหลดเสร็จสมบูรณ์!\\e[0m\"\n"
   ]
  },
  {
   "cell_type": "markdown",
   "metadata": {},
   "source": [
    "# เปิดใช้งาน Fooocus"
   ]
  },
  {
   "cell_type": "code",
   "execution_count": null,
   "metadata": {},
   "outputs": [],
   "source": [
    "#@title เริ่มต้นการใช้งาน Fooocus\n",
    "!python entry_with_update.py --share"
   ]
  }
 ],
 "metadata": {
  "language_info": {
   "name": "python"
  }
 },
 "nbformat": 4,
 "nbformat_minor": 2
}
